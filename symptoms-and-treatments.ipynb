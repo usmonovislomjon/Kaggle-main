{
 "cells": [
  {
   "cell_type": "markdown",
   "metadata": {},
   "source": [
    "# **Dataset Overview**"
   ]
  },
  {
   "cell_type": "code",
   "execution_count": null,
   "metadata": {
    "_cell_guid": "b1076dfc-b9ad-4769-8c92-a6c4dae69d19",
    "_uuid": "8f2839f25d086af736a60e9eeb907d3b93b6e0e5",
    "execution": {
     "iopub.execute_input": "2024-12-11T06:52:56.659865Z",
     "iopub.status.busy": "2024-12-11T06:52:56.659454Z",
     "iopub.status.idle": "2024-12-11T06:52:56.683097Z",
     "shell.execute_reply": "2024-12-11T06:52:56.681744Z",
     "shell.execute_reply.started": "2024-12-11T06:52:56.659834Z"
    },
    "trusted": true
   },
   "outputs": [
    {
     "name": "stdout",
     "output_type": "stream",
     "text": [
      "First 5 rows of the dataset:\n",
      "   Code                         Name  \\\n",
      "0     1               Panic disorder   \n",
      "1     2             Vocal cord polyp   \n",
      "2     3              Turner syndrome   \n",
      "3     4               Cryptorchidism   \n",
      "4     5  Ethylene glycol poisoning-1   \n",
      "\n",
      "                                            Symptoms  \\\n",
      "0  Palpitations, Sweating, Trembling, Shortness o...   \n",
      "1           Hoarseness, Vocal Changes, Vocal Fatigue   \n",
      "2  Short stature, Gonadal dysgenesis, Webbed neck...   \n",
      "3  Absence or undescended testicle(s), empty scro...   \n",
      "4  Nausea, vomiting, abdominal pain, General mala...   \n",
      "\n",
      "                                          Treatments  \n",
      "0  Antidepressant medications, Cognitive Behavior...  \n",
      "1       Voice Rest, Speech Therapy, Surgical Removal  \n",
      "2  Growth hormone therapy, Estrogen replacement t...  \n",
      "3  Observation and monitoring (in cases of mild o...  \n",
      "4  Supportive Measures, Gastric Decontamination, ...  \n",
      "\n",
      "Dataset information:\n",
      "<class 'pandas.core.frame.DataFrame'>\n",
      "RangeIndex: 400 entries, 0 to 399\n",
      "Data columns (total 4 columns):\n",
      " #   Column      Non-Null Count  Dtype \n",
      "---  ------      --------------  ----- \n",
      " 0   Code        400 non-null    int64 \n",
      " 1   Name        400 non-null    object\n",
      " 2   Symptoms    400 non-null    object\n",
      " 3   Treatments  399 non-null    object\n",
      "dtypes: int64(1), object(3)\n",
      "memory usage: 12.6+ KB\n",
      "None\n",
      "\n",
      "Number of unique medical conditions: 392\n"
     ]
    }
   ],
   "source": [
    "import pandas as pd\n",
    "\n",
    "# Load the dataset\n",
    "df = pd.read_csv('/kaggle/input/disease-and-symptoms/Diseases_Symptoms.csv')\n",
    "\n",
    "# Print the first few rows\n",
    "print(\"First 5 rows of the dataset:\")\n",
    "print(df.head())\n",
    "\n",
    "# Get information about the dataset\n",
    "print(\"\\nDataset information:\")\n",
    "print(df.info())\n",
    "\n",
    "# Check the unique values in the 'Name' column\n",
    "print(f\"\\nNumber of unique medical conditions: {df['Name'].unique().shape[0]}\")"
   ]
  },
  {
   "cell_type": "markdown",
   "metadata": {},
   "source": [
    "# **Exploring Symptom Patterns**"
   ]
  },
  {
   "cell_type": "code",
   "execution_count": 2,
   "metadata": {
    "execution": {
     "iopub.execute_input": "2024-12-11T06:52:31.316153Z",
     "iopub.status.busy": "2024-12-11T06:52:31.315711Z",
     "iopub.status.idle": "2024-12-11T06:52:31.329313Z",
     "shell.execute_reply": "2024-12-11T06:52:31.328119Z",
     "shell.execute_reply.started": "2024-12-11T06:52:31.316115Z"
    },
    "trusted": true
   },
   "outputs": [
    {
     "name": "stdout",
     "output_type": "stream",
     "text": [
      "Number of unique symptoms: 1000\n",
      "\n",
      "Top 10 most common symptoms:\n",
      "Symptoms\n",
      "swelling               39\n",
      "fatigue                39\n",
      "fever                  31\n",
      "Fatigue                28\n",
      "nausea                 23\n",
      "shortness of breath    20\n",
      "vomiting               19\n",
      "confusion              18\n",
      "stiffness              11\n",
      "dizziness              11\n",
      "Name: count, dtype: int64\n"
     ]
    }
   ],
   "source": [
    "# Count the number of unique symptoms\n",
    "unique_symptoms = df['Symptoms'].str.split(', ').explode().unique()\n",
    "print(f\"Number of unique symptoms: {len(unique_symptoms)}\")\n",
    "\n",
    "# Find the most common symptoms\n",
    "symptom_counts = df['Symptoms'].str.split(', ').explode().value_counts()\n",
    "print(\"\\nTop 10 most common symptoms:\")\n",
    "print(symptom_counts.head(10))"
   ]
  },
  {
   "cell_type": "markdown",
   "metadata": {},
   "source": [
    "# **Analyzing Treatment Recommendations**"
   ]
  },
  {
   "cell_type": "code",
   "execution_count": 3,
   "metadata": {
    "execution": {
     "iopub.execute_input": "2024-12-11T06:52:35.415794Z",
     "iopub.status.busy": "2024-12-11T06:52:35.415280Z",
     "iopub.status.idle": "2024-12-11T06:52:35.431062Z",
     "shell.execute_reply": "2024-12-11T06:52:35.429744Z",
     "shell.execute_reply.started": "2024-12-11T06:52:35.415738Z"
    },
    "trusted": true
   },
   "outputs": [
    {
     "name": "stdout",
     "output_type": "stream",
     "text": [
      "Number of unique treatments: 1365\n",
      "\n",
      "Top 10 most common treatments:\n",
      "Treatments\n",
      "physical therapy               34\n",
      "supportive care                23\n",
      "lifestyle changes              16\n",
      "pain management                15\n",
      "pain relievers                 14\n",
      "support groups                 13\n",
      "Antibiotics                    13\n",
      "radiation therapy              11\n",
      "rest                            9\n",
      "Immediate medical attention     9\n",
      "Name: count, dtype: int64\n"
     ]
    }
   ],
   "source": [
    "# Count the number of unique treatments\n",
    "unique_treatments = df['Treatments'].str.split(', ').explode().unique()\n",
    "print(f\"Number of unique treatments: {len(unique_treatments)}\")\n",
    "\n",
    "# Find the most common treatments\n",
    "treatment_counts = df['Treatments'].str.split(', ').explode().value_counts()\n",
    "print(\"\\nTop 10 most common treatments:\")\n",
    "print(treatment_counts.head(10))"
   ]
  },
  {
   "cell_type": "markdown",
   "metadata": {},
   "source": [
    "# **Connecting Symptoms and Treatments**"
   ]
  },
  {
   "cell_type": "code",
   "execution_count": 4,
   "metadata": {
    "execution": {
     "iopub.execute_input": "2024-12-11T06:52:42.272402Z",
     "iopub.status.busy": "2024-12-11T06:52:42.271442Z",
     "iopub.status.idle": "2024-12-11T06:52:42.316053Z",
     "shell.execute_reply": "2024-12-11T06:52:42.314856Z",
     "shell.execute_reply.started": "2024-12-11T06:52:42.272360Z"
    },
    "trusted": true
   },
   "outputs": [
    {
     "name": "stdout",
     "output_type": "stream",
     "text": [
      "\n",
      "Conditions related to 'headache':\n",
      "- Ethylene glycol poisoning-2\n",
      "  Symptoms: Metabolic acidosis, apid breathing, rapid heart rate, confusion, headache, dizziness, seizures\n",
      "  Treatments: Blood tests, Supportive Measures, Gastric Decontamination, Antidote Administration, Hemodialysis\n",
      "- Mumps\n",
      "  Symptoms: Swollen salivary glands (usually parotid), fever, headache, fatigue\n",
      "  Treatments: Supportive care, pain relievers, isolation, vaccination (MMR)\n",
      "- Angle-Closure Glaucoma\n",
      "  Symptoms: Severe eye pain, headache, blurred vision, halos around lights, nausea and vomiting\n",
      "  Treatments: Medications (e.g., oral or intravenous acetazolamide, topical beta blockers, alpha agonists, prostaglandin analogs), laser peripheral iridotomy, surgical procedures (e.g., trabeculectomy, glaucoma drainage implants)\n",
      "- Acute Sinusitis\n",
      "  Symptoms: Facial pain or pressure, nasal congestion, thick nasal discharge, post-nasal drip, cough, headache, fatigue, fever (in some cases)\n",
      "  Treatments: Home remedies (such as nasal saline irrigation, steam inhalation), over-the-counter pain relievers (such as acetaminophen or ibuprofen), nasal decongestants (for short-term use), nasal corticosteroids (to reduce inflammation), plenty of fluids and rest, warm compresses, avoidance of irritants (such as smoke or allergens), prescription antibiotics (if bacterial infection is suspected or confirmed), management of underlying causes (such as allergies or nasal polyps), symptom relief medications (such as cough suppressants or antihistamines)\n",
      "- Mastoiditis\n",
      "  Symptoms: Ear pain (particularly behind the ear), swelling and redness of the ear or the area behind the ear, fever, headache, hearing loss or impaired hearing, drainage of fluid or pus from the ear, earache, irritability (in infants and young children), tenderness or pain when touching the area, mastoid bone protrusion or swelling\n",
      "  Treatments: Antibiotics (oral or intravenous) to treat the underlying bacterial infection, pain relievers (such as acetaminophen or ibuprofen) for pain and fever, ear drops (if there is drainage from the ear), surgical intervention (in severe or chronic cases), such as mastoidectomy (removal of infected mastoid bone cells) or tympanostomy tube placement (to relieve pressure and drain fluid from the middle ear), supportive care (rest, hydration, warm compresses)\n",
      "- West Nile Virus\n",
      "  Symptoms: Fever, headache, body aches, rash\n",
      "  Treatments: Supportive care, symptom management, prevention of mosquito bites\n",
      "- Cat Scratch Disease\n",
      "  Symptoms: Swollen lymph nodes, fever, fatigue, headache, rash\n",
      "  Treatments: Antibiotics (azithromycin, doxycycline), pain management, supportive care\n",
      "- Rabies\n",
      "  Symptoms: Flu-like symptoms (fever, headache, fatigue), anxiety, confusion, hallucinations, difficulty swallowing\n",
      "  Treatments: Immediate medical attention (post-exposure prophylaxis), wound care, administration of rabies vaccine and immunoglobulin, supportive care, monitoring and management of symptoms\n",
      "- Polycythemia Vera\n",
      "  Symptoms: Increased red blood cell count, fatigue, headache, dizziness, itching, enlarged spleen\n",
      "  Treatments: Phlebotomy (removal of blood), medication (hydroxyurea, interferon), low-dose aspirin, managing complications (blood thinners, medication for itching)\n"
     ]
    }
   ],
   "source": [
    "import pandas as pd\n",
    "\n",
    "# Load the dataset\n",
    "df = pd.read_csv('/kaggle/input/disease-and-symptoms/Diseases_Symptoms.csv')\n",
    "\n",
    "# Create a dictionary mapping condition names to their symptoms and treatments\n",
    "def find_related_conditions(symptom):\n",
    "    condition_info = {}\n",
    "    for _, row in df.iterrows():\n",
    "        condition_name = row['Name']\n",
    "        symptoms = row['Symptoms'].split(', ')\n",
    "\n",
    "        # Check if the Treatments column is a string before splitting\n",
    "        treatments = row['Treatments']\n",
    "        if isinstance(treatments, str):\n",
    "            treatments = treatments.split(', ')\n",
    "        else:\n",
    "            treatments = []\n",
    "\n",
    "        condition_info[condition_name] = {'Symptoms': symptoms, 'Treatments': treatments}\n",
    "\n",
    "    # Find conditions with the user-provided symptom\n",
    "    related_conditions = []\n",
    "    for condition, info in condition_info.items():\n",
    "        if symptom in info['Symptoms']:\n",
    "            related_conditions.append(condition)\n",
    "\n",
    "    return related_conditions, condition_info\n",
    "\n",
    "# Example usage\n",
    "user_symptom = \"headache\"\n",
    "related_conditions, condition_info = find_related_conditions(user_symptom)\n",
    "\n",
    "if related_conditions:\n",
    "    print(f\"\\nConditions related to '{user_symptom}':\")\n",
    "    for condition in related_conditions:\n",
    "        print(f\"- {condition}\")\n",
    "        print(\"  Symptoms:\", \", \".join(condition_info[condition]['Symptoms']))\n",
    "        print(\"  Treatments:\", \", \".join(condition_info[condition]['Treatments']))\n",
    "else:\n",
    "    print(f\"No conditions found related to '{user_symptom}'.\")"
   ]
  }
 ],
 "metadata": {
  "kaggle": {
   "accelerator": "none",
   "dataSources": [
    {
     "datasetId": 5926505,
     "sourceId": 9693441,
     "sourceType": "datasetVersion"
    }
   ],
   "dockerImageVersionId": 30804,
   "isGpuEnabled": false,
   "isInternetEnabled": false,
   "language": "python",
   "sourceType": "notebook"
  },
  "kernelspec": {
   "display_name": "Python 3",
   "language": "python",
   "name": "python3"
  },
  "language_info": {
   "codemirror_mode": {
    "name": "ipython",
    "version": 3
   },
   "file_extension": ".py",
   "mimetype": "text/x-python",
   "name": "python",
   "nbconvert_exporter": "python",
   "pygments_lexer": "ipython3",
   "version": "3.10.14"
  }
 },
 "nbformat": 4,
 "nbformat_minor": 4
}
